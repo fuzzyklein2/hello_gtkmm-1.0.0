{
 "cells": [
  {
   "cell_type": "code",
   "execution_count": 3,
   "id": "49a13c18-480b-4157-bbfe-0478b0a36b8b",
   "metadata": {},
   "outputs": [
    {
     "name": "stdout",
     "output_type": "stream",
     "text": [
      "Found 2 source files:\n",
      "  src/hello_gtkmm.cpp\n",
      "  src/mywindow.cpp\n",
      "meson.build updated with 2 source files.\n"
     ]
    }
   ],
   "source": [
    "from pathlib import Path\n",
    "\n",
    "# ---------- Configuration ----------\n",
    "src_dir = Path('src')\n",
    "meson_file = Path('meson.build')\n",
    "\n",
    "# Extensions to include\n",
    "exts = ['.c', '.cp', '.cc', '.cpp']\n",
    "\n",
    "# ---------- Step 1: Scan src/ ----------\n",
    "src_files = sorted(f.as_posix() for f in src_dir.iterdir() if f.suffix in exts)\n",
    "\n",
    "if not src_files:\n",
    "    print(\"No source files found in src/.\")\n",
    "else:\n",
    "    print(f\"Found {len(src_files)} source files:\")\n",
    "    for f in src_files:\n",
    "        print(f\"  {f}\")\n",
    "\n",
    "# ---------- Step 2: Update meson.build ----------\n",
    "# We'll look for a placeholder line: '# --- AUTOGEN_SRC_START ---'\n",
    "# and replace the block until '# --- AUTOGEN_SRC_END ---'\n",
    "# Users need to put these markers in meson.build\n",
    "\n",
    "if not meson_file.exists():\n",
    "    raise FileNotFoundError(f\"{meson_file} not found.\")\n",
    "\n",
    "with meson_file.open('r') as f:\n",
    "    lines = f.readlines()\n",
    "\n",
    "new_lines = []\n",
    "inside_block = False\n",
    "\n",
    "for line in lines:\n",
    "    if '# --- AUTOGEN_SRC_START ---' in line:\n",
    "        inside_block = True\n",
    "        new_lines.append(line)\n",
    "        # insert new src_files list here\n",
    "        new_lines.append('src_files = [\\n')\n",
    "        for fpath in src_files:\n",
    "            new_lines.append(f\"  '{fpath}',\\n\")\n",
    "        new_lines.append(']\\n')\n",
    "        continue\n",
    "    if '# --- AUTOGEN_SRC_END ---' in line:\n",
    "        inside_block = False\n",
    "    if not inside_block:\n",
    "        new_lines.append(line)\n",
    "\n",
    "with meson_file.open('w') as f:\n",
    "    f.writelines(new_lines)\n",
    "\n",
    "print(f\"meson.build updated with {len(src_files)} source files.\")\n"
   ]
  },
  {
   "cell_type": "code",
   "execution_count": null,
   "id": "97500f47-cbe6-41a9-8d84-9d9cde56ffe3",
   "metadata": {},
   "outputs": [],
   "source": []
  }
 ],
 "metadata": {
  "kernelspec": {
   "display_name": "Python 3 (ipykernel)",
   "language": "python",
   "name": "python3"
  },
  "language_info": {
   "codemirror_mode": {
    "name": "ipython",
    "version": 3
   },
   "file_extension": ".py",
   "mimetype": "text/x-python",
   "name": "python",
   "nbconvert_exporter": "python",
   "pygments_lexer": "ipython3",
   "version": "3.13.2"
  }
 },
 "nbformat": 4,
 "nbformat_minor": 5
}
