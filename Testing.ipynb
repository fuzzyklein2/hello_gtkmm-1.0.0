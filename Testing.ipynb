{
 "cells": [
  {
   "cell_type": "markdown",
   "id": "978a168a-a8df-4bc1-9ff0-fcc8322da51e",
   "metadata": {},
   "source": [
    "%%bash\n",
    "# Create a build directory\n",
    "meson setup builddir\n",
    "\n",
    "# Compile\n",
    "meson compile -C builddir\n",
    "\n",
    "# Run\n",
    "./builddir/hello_gtkmm\n"
   ]
  },
  {
   "cell_type": "code",
   "execution_count": 17,
   "id": "5ce954c7-c7d8-4d80-aa6f-6417c12732c5",
   "metadata": {},
   "outputs": [
    {
     "name": "stdout",
     "output_type": "stream",
     "text": [
      "1.3.2\n"
     ]
    }
   ],
   "source": [
    "%%bash\n",
    "meson --version"
   ]
  },
  {
   "cell_type": "code",
   "execution_count": 24,
   "id": "b8252d32-c79f-415c-bf6e-8bec86fe3a28",
   "metadata": {},
   "outputs": [
    {
     "name": "stdout",
     "output_type": "stream",
     "text": [
      "The Meson build system\n",
      "Version: 1.3.2\n",
      "Source dir: /home/fuzzy/GitHub/hello_gtkmm-1.0.0\n",
      "Build dir: /home/fuzzy/GitHub/hello_gtkmm-1.0.0/builddir\n",
      "Build type: native build\n",
      "Project name: hello_gtkmm\n",
      "Project version: 1.0\n",
      "C++ compiler for the host machine: c++ (gcc 13.3.0 \"c++ (Ubuntu 13.3.0-6ubuntu2~24.04) 13.3.0\")\n",
      "C++ linker for the host machine: c++ ld.bfd 2.42\n",
      "Host machine cpu family: x86_64\n",
      "Host machine cpu: x86_64\n",
      "Found pkg-config: YES (/usr/bin/pkg-config) 1.8.1\n",
      "Run-time dependency gtkmm-4.0 found: YES 4.10.0\n",
      "Build targets in project: 1\n",
      "\n",
      "Found ninja-1.11.1 at /usr/bin/ninja\n"
     ]
    }
   ],
   "source": [
    "%%bash\n",
    "meson setup builddir"
   ]
  },
  {
   "cell_type": "code",
   "execution_count": 36,
   "id": "7c71ae00-b96d-4a5a-bd2d-e1ab71d383f2",
   "metadata": {},
   "outputs": [
    {
     "name": "stdout",
     "output_type": "stream",
     "text": [
      "Directory already configured.\n",
      "\n",
      "Just run your build command (e.g. ninja) and Meson will regenerate as necessary.\n",
      "Run \"meson setup --reconfigure to force Meson to regenerate.\n",
      "\n",
      "If build failures persist, run \"meson setup --wipe\" to rebuild from scratch\n",
      "using the same options as passed when configuring the build.\n",
      "WARNING: Running the setup command as `meson [options]` instead of `meson setup [options]` is ambiguous and deprecated.\n"
     ]
    }
   ],
   "source": [
    "%%bash\n",
    "meson clean"
   ]
  },
  {
   "cell_type": "code",
   "execution_count": 37,
   "id": "c91281a1-4b2d-40a1-8ee0-4eaa4a9e4156",
   "metadata": {},
   "outputs": [
    {
     "name": "stdout",
     "output_type": "stream",
     "text": [
      "ninja: Entering directory `/home/fuzzy/GitHub/hello_gtkmm-1.0.0/builddir'\n",
      "[1/2] Compiling C++ object hello_gtkmm.p/src_hello_gtkmm.cpp.o\n",
      "[2/2] Linking target hello_gtkmm\n",
      "\u001b[31mFAILED: \u001b[0mhello_gtkmm \n",
      "c++  -o hello_gtkmm hello_gtkmm.p/src_hello_gtkmm.cpp.o -Wl,--as-needed -Wl,--no-undefined -Wl,--start-group /usr/lib/x86_64-linux-gnu/libgtkmm-4.0.so /usr/lib/x86_64-linux-gnu/libpangomm-2.48.so /usr/lib/x86_64-linux-gnu/libgiomm-2.68.so /usr/lib/x86_64-linux-gnu/libglibmm-2.68.so /usr/lib/x86_64-linux-gnu/libcairomm-1.16.so /usr/lib/x86_64-linux-gnu/libsigc-3.0.so /usr/lib/x86_64-linux-gnu/libgtk-4.so /usr/lib/x86_64-linux-gnu/libpangocairo-1.0.so /usr/lib/x86_64-linux-gnu/libpango-1.0.so /usr/lib/x86_64-linux-gnu/libharfbuzz.so /usr/lib/x86_64-linux-gnu/libgdk_pixbuf-2.0.so /usr/lib/x86_64-linux-gnu/libcairo-gobject.so /usr/lib/x86_64-linux-gnu/libcairo.so /usr/lib/x86_64-linux-gnu/libvulkan.so /usr/lib/x86_64-linux-gnu/libgraphene-1.0.so /usr/lib/x86_64-linux-gnu/libgio-2.0.so /usr/lib/x86_64-linux-gnu/libgobject-2.0.so /usr/lib/x86_64-linux-gnu/libglib-2.0.so -Wl,--end-group\n",
      "/usr/bin/ld: hello_gtkmm.p/src_hello_gtkmm.cpp.o: in function `auto Gtk::make_managed<MyWindow>()':\n",
      "/usr/include/gtkmm-4.0/gtkmm/object.h:70:(.text._ZN3Gtk12make_managedI8MyWindowJEEEDaDpOT0_[_ZN3Gtk12make_managedI8MyWindowJEEEDaDpOT0_]+0x28): undefined reference to `MyWindow::MyWindow()'\n",
      "collect2: error: ld returned 1 exit status\n",
      "ninja: build stopped: subcommand failed.\n",
      "INFO: autodetecting backend as ninja\n",
      "INFO: calculating backend command to run: /usr/bin/ninja -C /home/fuzzy/GitHub/hello_gtkmm-1.0.0/builddir\n"
     ]
    },
    {
     "ename": "CalledProcessError",
     "evalue": "Command 'b'meson compile -C builddir\\n'' returned non-zero exit status 1.",
     "output_type": "error",
     "traceback": [
      "\u001b[31m---------------------------------------------------------------------------\u001b[39m",
      "\u001b[31mCalledProcessError\u001b[39m                        Traceback (most recent call last)",
      "\u001b[36mCell\u001b[39m\u001b[36m \u001b[39m\u001b[32mIn[37]\u001b[39m\u001b[32m, line 1\u001b[39m\n\u001b[32m----> \u001b[39m\u001b[32m1\u001b[39m \u001b[43mget_ipython\u001b[49m\u001b[43m(\u001b[49m\u001b[43m)\u001b[49m\u001b[43m.\u001b[49m\u001b[43mrun_cell_magic\u001b[49m\u001b[43m(\u001b[49m\u001b[33;43m'\u001b[39;49m\u001b[33;43mbash\u001b[39;49m\u001b[33;43m'\u001b[39;49m\u001b[43m,\u001b[49m\u001b[43m \u001b[49m\u001b[33;43m'\u001b[39;49m\u001b[33;43m'\u001b[39;49m\u001b[43m,\u001b[49m\u001b[43m \u001b[49m\u001b[33;43m'\u001b[39;49m\u001b[33;43mmeson compile -C builddir\u001b[39;49m\u001b[38;5;130;43;01m\\n\u001b[39;49;00m\u001b[33;43m'\u001b[39;49m\u001b[43m)\u001b[49m\n",
      "\u001b[36mFile \u001b[39m\u001b[32m~/python-3.13.2/lib/python3.13/site-packages/IPython/core/interactiveshell.py:2547\u001b[39m, in \u001b[36mInteractiveShell.run_cell_magic\u001b[39m\u001b[34m(self, magic_name, line, cell)\u001b[39m\n\u001b[32m   2545\u001b[39m \u001b[38;5;28;01mwith\u001b[39;00m \u001b[38;5;28mself\u001b[39m.builtin_trap:\n\u001b[32m   2546\u001b[39m     args = (magic_arg_s, cell)\n\u001b[32m-> \u001b[39m\u001b[32m2547\u001b[39m     result = \u001b[43mfn\u001b[49m\u001b[43m(\u001b[49m\u001b[43m*\u001b[49m\u001b[43margs\u001b[49m\u001b[43m,\u001b[49m\u001b[43m \u001b[49m\u001b[43m*\u001b[49m\u001b[43m*\u001b[49m\u001b[43mkwargs\u001b[49m\u001b[43m)\u001b[49m\n\u001b[32m   2549\u001b[39m \u001b[38;5;66;03m# The code below prevents the output from being displayed\u001b[39;00m\n\u001b[32m   2550\u001b[39m \u001b[38;5;66;03m# when using magics with decorator @output_can_be_silenced\u001b[39;00m\n\u001b[32m   2551\u001b[39m \u001b[38;5;66;03m# when the last Python token in the expression is a ';'.\u001b[39;00m\n\u001b[32m   2552\u001b[39m \u001b[38;5;28;01mif\u001b[39;00m \u001b[38;5;28mgetattr\u001b[39m(fn, magic.MAGIC_OUTPUT_CAN_BE_SILENCED, \u001b[38;5;28;01mFalse\u001b[39;00m):\n",
      "\u001b[36mFile \u001b[39m\u001b[32m~/python-3.13.2/lib/python3.13/site-packages/IPython/core/magics/script.py:159\u001b[39m, in \u001b[36mScriptMagics._make_script_magic.<locals>.named_script_magic\u001b[39m\u001b[34m(line, cell)\u001b[39m\n\u001b[32m    157\u001b[39m \u001b[38;5;28;01melse\u001b[39;00m:\n\u001b[32m    158\u001b[39m     line = script\n\u001b[32m--> \u001b[39m\u001b[32m159\u001b[39m \u001b[38;5;28;01mreturn\u001b[39;00m \u001b[38;5;28;43mself\u001b[39;49m\u001b[43m.\u001b[49m\u001b[43mshebang\u001b[49m\u001b[43m(\u001b[49m\u001b[43mline\u001b[49m\u001b[43m,\u001b[49m\u001b[43m \u001b[49m\u001b[43mcell\u001b[49m\u001b[43m)\u001b[49m\n",
      "\u001b[36mFile \u001b[39m\u001b[32m~/python-3.13.2/lib/python3.13/site-packages/IPython/core/magics/script.py:336\u001b[39m, in \u001b[36mScriptMagics.shebang\u001b[39m\u001b[34m(self, line, cell)\u001b[39m\n\u001b[32m    331\u001b[39m \u001b[38;5;28;01mif\u001b[39;00m args.raise_error \u001b[38;5;129;01mand\u001b[39;00m p.returncode != \u001b[32m0\u001b[39m:\n\u001b[32m    332\u001b[39m     \u001b[38;5;66;03m# If we get here and p.returncode is still None, we must have\u001b[39;00m\n\u001b[32m    333\u001b[39m     \u001b[38;5;66;03m# killed it but not yet seen its return code. We don't wait for it,\u001b[39;00m\n\u001b[32m    334\u001b[39m     \u001b[38;5;66;03m# in case it's stuck in uninterruptible sleep. -9 = SIGKILL\u001b[39;00m\n\u001b[32m    335\u001b[39m     rc = p.returncode \u001b[38;5;129;01mor\u001b[39;00m -\u001b[32m9\u001b[39m\n\u001b[32m--> \u001b[39m\u001b[32m336\u001b[39m     \u001b[38;5;28;01mraise\u001b[39;00m CalledProcessError(rc, cell)\n",
      "\u001b[31mCalledProcessError\u001b[39m: Command 'b'meson compile -C builddir\\n'' returned non-zero exit status 1."
     ]
    }
   ],
   "source": [
    "%%bash\n",
    "meson compile -C builddir"
   ]
  },
  {
   "cell_type": "code",
   "execution_count": 33,
   "id": "9c694001-1425-431b-9c80-7bbc809027d1",
   "metadata": {
    "scrolled": true
   },
   "outputs": [
    {
     "name": "stdout",
     "output_type": "stream",
     "text": [
      "Doxygen version used: 1.9.8\n",
      "Searching for include files...\n",
      "Searching for example files...\n",
      "Searching for images...\n",
      "Searching for dot files...\n",
      "Searching for msc files...\n",
      "Searching for dia files...\n",
      "Searching for files to exclude\n",
      "Searching INPUT for files to process...\n",
      "Searching for files in directory /home/fuzzy/GitHub/hello_gtkmm-1.0.0/src\n",
      "Searching for files in directory /home/fuzzy/GitHub/hello_gtkmm-1.0.0/inc\n",
      "Reading and parsing tag files\n",
      "Parsing files\n",
      "Preprocessing /home/fuzzy/GitHub/hello_gtkmm-1.0.0/src/hello_gtkmm.cpp...\n",
      "Parsing file /home/fuzzy/GitHub/hello_gtkmm-1.0.0/src/hello_gtkmm.cpp...\n",
      "Preprocessing /home/fuzzy/GitHub/hello_gtkmm-1.0.0/inc/std_lib_facilities.h...\n",
      "Parsing file /home/fuzzy/GitHub/hello_gtkmm-1.0.0/inc/std_lib_facilities.h...\n",
      "Building macro definition list...\n",
      "Building group list...\n",
      "Building directory list...\n",
      "Building namespace list...\n",
      "Building file list...\n",
      "Building class list...\n",
      "Building concept list...\n",
      "Computing nesting relations for classes...\n",
      "Associating documentation with classes...\n",
      "Associating documentation with concepts...\n",
      "Associating documentation with modules...\n",
      "Building example list...\n",
      "Searching for enumerations...\n",
      "Searching for documented typedefs...\n",
      "Searching for members imported via using declarations...\n",
      "Searching for included using directives...\n",
      "Searching for documented variables...\n",
      "Building interface member list...\n",
      "Building member list...\n",
      "Searching for friends...\n",
      "Searching for documented defines...\n",
      "Computing class inheritance relations...\n",
      "Computing class usage relations...\n",
      "Flushing cached template relations that have become invalid...\n",
      "Computing class relations...\n",
      "Add enum values to enums...\n",
      "Searching for member function documentation...\n",
      "Creating members for template instances...\n",
      "Building page list...\n",
      "Search for main page...\n",
      "Computing page relations...\n",
      "Determining the scope of groups...\n",
      "Computing module relations...\n",
      "Sorting lists...\n",
      "Determining which enums are documented\n",
      "Computing member relations...\n",
      "Building full member lists recursively...\n",
      "Adding members to member groups.\n",
      "Computing member references...\n",
      "Inheriting documentation...\n",
      "Generating disk names...\n",
      "Adding source references...\n",
      "Adding xrefitems...\n",
      "Sorting member lists...\n",
      "Setting anonymous enum type...\n",
      "Computing dependencies between directories...\n",
      "Generating citations page...\n",
      "Counting members...\n",
      "Counting data structures...\n",
      "Resolving user defined references...\n",
      "Finding anchors and sections in the documentation...\n",
      "Transferring function references...\n",
      "Combining using relations...\n",
      "Adding members to index pages...\n",
      "Correcting members for VHDL...\n",
      "Computing tooltip texts...\n",
      "Generating style sheet...\n",
      "Generating search indices...\n",
      "Generating example documentation...\n",
      "Generating file sources...\n",
      "Generating code for file inc/std_lib_facilities.h...\n",
      "Generating code for file src/hello_gtkmm.cpp...\n",
      "Generating file documentation...\n",
      "Generating docs for file inc/std_lib_facilities.h...\n",
      "Generating docs for file src/hello_gtkmm.cpp...\n",
      "Generating page documentation...\n",
      "Generating group documentation...\n",
      "Generating class documentation...\n",
      "Generating docs for compound Exit...\n",
      "Generating docs for compound MyWindow...\n",
      "Generating docs for compound Range_error...\n",
      "Generating docs for compound String...\n",
      "Generating docs for compound Vector...\n",
      "Generating concept documentation...\n",
      "Generating module documentation...\n",
      "Generating namespace documentation...\n",
      "Generating docs for namespace __gnu_cxx\n",
      "Generating docs for compound __gnu_cxx::hash< std::string >...\n",
      "Generating docs for compound __gnu_cxx::hash< String >...\n",
      "Generating graph info page...\n",
      "Generating directory documentation...\n",
      "Generating index page...\n",
      "Generating page index...\n",
      "Generating topic index...\n",
      "Generating module index...\n",
      "Generating module member index...\n",
      "Generating namespace index...\n",
      "Generating namespace member index...\n",
      "Generating concept index...\n",
      "Generating annotated compound index...\n",
      "Generating alphabetical compound index...\n",
      "Generating hierarchical class index...\n",
      "Generating graphical class hierarchy...\n",
      "Generating member index...\n",
      "Generating file index...\n",
      "Generating file member index...\n",
      "Generating example index...\n",
      "finalizing index lists...\n",
      "writing tag file...\n",
      "Running plantuml with JAVA...\n",
      "Running dot...\n",
      "type lookup cache used 131/65536 hits=330 misses=134\n",
      "symbol lookup cache used 133/65536 hits=527 misses=133\n",
      "finished...\n"
     ]
    }
   ],
   "source": [
    "%%bash\n",
    "doxygen Doxyfile"
   ]
  },
  {
   "cell_type": "code",
   "execution_count": 34,
   "id": "b9fd3e9a-8020-45e2-aa6e-25935304b6b8",
   "metadata": {
    "scrolled": true
   },
   "outputs": [],
   "source": [
    "%%bash\n",
    "# Open the docs\n",
    "xdg-open docs/html/index.html"
   ]
  },
  {
   "cell_type": "code",
   "execution_count": 31,
   "id": "7c0cf731-be38-4fe2-94a1-3226100e549d",
   "metadata": {},
   "outputs": [
    {
     "name": "stdout",
     "output_type": "stream",
     "text": [
      "Button clicked!\n"
     ]
    }
   ],
   "source": [
    "%%bash\n",
    "builddir/hello_gtkmm"
   ]
  },
  {
   "cell_type": "code",
   "execution_count": 35,
   "id": "3a36f533-17e0-4354-92b0-3ef9aa96b22a",
   "metadata": {},
   "outputs": [
    {
     "name": "stderr",
     "output_type": "stream",
     "text": [
      "==114277== Memcheck, a memory error detector\n",
      "==114277== Copyright (C) 2002-2022, and GNU GPL'd, by Julian Seward et al.\n",
      "==114277== Using Valgrind-3.22.0 and LibVEX; rerun with -h for copyright info\n",
      "==114277== Command: builddir/hello_gtkmm\n",
      "==114277== \n"
     ]
    },
    {
     "name": "stdout",
     "output_type": "stream",
     "text": [
      "Button clicked!\n"
     ]
    },
    {
     "name": "stderr",
     "output_type": "stream",
     "text": [
      "==114277== \n",
      "==114277== HEAP SUMMARY:\n",
      "==114277==     in use at exit: 8,220,653 bytes in 49,564 blocks\n",
      "==114277==   total heap usage: 236,448 allocs, 186,884 frees, 44,656,225 bytes allocated\n",
      "==114277== \n",
      "==114277== LEAK SUMMARY:\n",
      "==114277==    definitely lost: 1,536 bytes in 3 blocks\n",
      "==114277==    indirectly lost: 7,845 bytes in 329 blocks\n",
      "==114277==      possibly lost: 2,385,653 bytes in 4,234 blocks\n",
      "==114277==    still reachable: 5,711,883 bytes in 43,909 blocks\n",
      "==114277==         suppressed: 0 bytes in 0 blocks\n",
      "==114277== Rerun with --leak-check=full to see details of leaked memory\n",
      "==114277== \n",
      "==114277== For lists of detected and suppressed errors, rerun with: -s\n",
      "==114277== ERROR SUMMARY: 0 errors from 0 contexts (suppressed: 0 from 0)\n"
     ]
    }
   ],
   "source": [
    "%%bash\n",
    "valgrind builddir/hello_gtkmm"
   ]
  },
  {
   "cell_type": "code",
   "execution_count": null,
   "id": "ac977096-fc8b-4d0e-a7d2-2f53cd164602",
   "metadata": {},
   "outputs": [],
   "source": []
  }
 ],
 "metadata": {
  "kernelspec": {
   "display_name": "Python 3 (ipykernel)",
   "language": "python",
   "name": "python3"
  },
  "language_info": {
   "codemirror_mode": {
    "name": "ipython",
    "version": 3
   },
   "file_extension": ".py",
   "mimetype": "text/x-python",
   "name": "python",
   "nbconvert_exporter": "python",
   "pygments_lexer": "ipython3",
   "version": "3.13.2"
  }
 },
 "nbformat": 4,
 "nbformat_minor": 5
}
